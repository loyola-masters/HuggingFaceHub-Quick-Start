{
 "cells": [
  {
   "cell_type": "code",
   "execution_count": 1,
   "id": "f7703df7-8058-4781-953a-0d2e7c040717",
   "metadata": {},
   "outputs": [],
   "source": [
    "import huggingface_hub\n",
    "from huggingface_hub import HfApi"
   ]
  },
  {
   "cell_type": "code",
   "execution_count": null,
   "id": "5ded60d3-0ea0-40f3-b292-15377a960c89",
   "metadata": {},
   "outputs": [],
   "source": [
    "huggingface_hub.login(token = 'YOUR_TOKEN')"
   ]
  },
  {
   "cell_type": "code",
   "execution_count": 3,
   "id": "39979735-105c-47da-bc66-9b1d0607a766",
   "metadata": {},
   "outputs": [],
   "source": [
    "# 1. Instantiate the API\n",
    "api = HfApi()\n",
    "\n",
    "# repo_id = \"YOUR_USER_NAME/iris-dt\"\n",
    "repo_id = \"brjapon/iris-dt\"\n",
    "#api.create_repo(repo_id=repo_id, repo_type=\"model\")"
   ]
  },
  {
   "cell_type": "code",
   "execution_count": null,
   "id": "19579dfd-8e14-49a3-81c5-35a167791488",
   "metadata": {},
   "outputs": [
    {
     "data": {
      "application/vnd.jupyter.widget-view+json": {
       "model_id": "780d75e39d504c11b6fd67008de7896d",
       "version_major": 2,
       "version_minor": 0
      },
      "text/plain": [
       "iris_dt.joblib:   0%|          | 0.00/1.73k [00:00<?, ?B/s]"
      ]
     },
     "metadata": {},
     "output_type": "display_data"
    },
    {
     "name": "stdout",
     "output_type": "stream",
     "text": [
      "iris.csv uploaded successfully!\n"
     ]
    }
   ],
   "source": [
    "# 2. Push the serialized model plus a short README or Model Card\n",
    "# from huggingface_hub import HfFolder, upload_file\n",
    "api.upload_file(\n",
    "       path_or_fileobj=\"models/iris_dt.joblib\",\n",
    "       path_in_repo=\"iris_dt.joblib\",\n",
    "       repo_id=repo_id,\n",
    "       repo_type=\"model\"\n",
    "   )\n",
    "\n",
    "print(\"iris.csv uploaded successfully!\")"
   ]
  }
 ],
 "metadata": {
  "kernelspec": {
   "display_name": "Python 3 (ipykernel)",
   "language": "python",
   "name": "python3"
  },
  "language_info": {
   "codemirror_mode": {
    "name": "ipython",
    "version": 3
   },
   "file_extension": ".py",
   "mimetype": "text/x-python",
   "name": "python",
   "nbconvert_exporter": "python",
   "pygments_lexer": "ipython3",
   "version": "3.9.21"
  }
 },
 "nbformat": 4,
 "nbformat_minor": 5
}
