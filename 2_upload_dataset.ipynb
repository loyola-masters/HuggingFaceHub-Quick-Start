{
 "cells": [
  {
   "cell_type": "code",
   "execution_count": 3,
   "id": "f7703df7-8058-4781-953a-0d2e7c040717",
   "metadata": {},
   "outputs": [],
   "source": [
    "import huggingface_hub\n",
    "from huggingface_hub import HfApi"
   ]
  },
  {
   "cell_type": "code",
   "execution_count": null,
   "id": "5ded60d3-0ea0-40f3-b292-15377a960c89",
   "metadata": {},
   "outputs": [],
   "source": [
    "huggingface_hub.login(token = 'YOUR_TOKEN')"
   ]
  },
  {
   "cell_type": "code",
   "execution_count": 5,
   "id": "39979735-105c-47da-bc66-9b1d0607a766",
   "metadata": {},
   "outputs": [
    {
     "data": {
      "text/plain": [
       "RepoUrl('https://huggingface.co/datasets/brjapon/iris', endpoint='https://huggingface.co', repo_type='dataset', repo_id='brjapon/iris')"
      ]
     },
     "execution_count": 5,
     "metadata": {},
     "output_type": "execute_result"
    }
   ],
   "source": [
    "# 1. Instantiate the API\n",
    "api = HfApi()\n",
    "\n",
    "# repo_id = \"YOUR_USER_NAME/iris\"\n",
    "repo_id = \"brjapon/iris\"\n",
    "api.create_repo(repo_id=repo_id, repo_type=\"dataset\")"
   ]
  },
  {
   "cell_type": "code",
   "execution_count": null,
   "id": "19579dfd-8e14-49a3-81c5-35a167791488",
   "metadata": {},
   "outputs": [],
   "source": [
    "# 2. Upload the file\n",
    "api.upload_file(\n",
    "    path_or_fileobj=\"iris-HF/iris.csv\",        # Local path to your CSV\n",
    "    path_in_repo=\"iris.csv\",           # File name/path in the repository\n",
    "    repo_id= repo_id,     # The dataset repository on HF\n",
    "    repo_type=\"dataset\",               # repo_type=\"dataset\" for a dataset repo\n",
    "    # token=\"hf_your_token_here\"         # Your personal HF token (not needed, because you're already logged in)\n",
    ")\n",
    "\n",
    "print(\"iris.csv uploaded successfully!\")"
   ]
  }
 ],
 "metadata": {
  "kernelspec": {
   "display_name": "Python 3 (ipykernel)",
   "language": "python",
   "name": "python3"
  },
  "language_info": {
   "codemirror_mode": {
    "name": "ipython",
    "version": 3
   },
   "file_extension": ".py",
   "mimetype": "text/x-python",
   "name": "python",
   "nbconvert_exporter": "python",
   "pygments_lexer": "ipython3",
   "version": "3.9.21"
  }
 },
 "nbformat": 4,
 "nbformat_minor": 5
}
